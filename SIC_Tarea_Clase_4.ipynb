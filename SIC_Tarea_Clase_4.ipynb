{
  "nbformat": 4,
  "nbformat_minor": 0,
  "metadata": {
    "colab": {
      "provenance": [],
      "authorship_tag": "ABX9TyNYFw9Z/MzEO0fQ6NG57YYQ",
      "include_colab_link": true
    },
    "kernelspec": {
      "name": "python3",
      "display_name": "Python 3"
    },
    "language_info": {
      "name": "python"
    }
  },
  "cells": [
    {
      "cell_type": "markdown",
      "metadata": {
        "id": "view-in-github",
        "colab_type": "text"
      },
      "source": [
        "<a href=\"https://colab.research.google.com/github/jlmunoz96/SIC2024/blob/main/SIC_Tarea_Clase_4.ipynb\" target=\"_parent\"><img src=\"https://colab.research.google.com/assets/colab-badge.svg\" alt=\"Open In Colab\"/></a>"
      ]
    },
    {
      "cell_type": "markdown",
      "source": [
        "##*Hacer ejemplos similares al título de Reshaping y números aleatorios explicando los resultados en un comentario o en markdown. Puede ser un ejemplo muy parecido, con otros números, pero con explicaciones propias de usted*"
      ],
      "metadata": {
        "id": "Gq83mAOoyq9N"
      }
    },
    {
      "cell_type": "markdown",
      "source": [
        "Reshaping es el cambio de forma de un array (o matriz) de los elementos internos que lo componen. Haciendo un \"reshaping\" podemos agregar, sustraer o modificar el número de elementos en cada dimensión.\n",
        "\n",
        "Por ejemplo:"
      ],
      "metadata": {
        "id": "Z0vtokk_4c9w"
      }
    },
    {
      "cell_type": "code",
      "source": [
        "import pandas as pd\n",
        "import numpy as np"
      ],
      "metadata": {
        "id": "JhESlR-J-nNs"
      },
      "execution_count": 2,
      "outputs": []
    },
    {
      "cell_type": "code",
      "execution_count": 6,
      "metadata": {
        "colab": {
          "base_uri": "https://localhost:8080/"
        },
        "id": "dU_ffifwylIw",
        "outputId": "50696ff2-fb66-4fcc-91b7-639c2a47f74c"
      },
      "outputs": [
        {
          "output_type": "execute_result",
          "data": {
            "text/plain": [
              "array([4, 3, 9, 3, 3, 1, 3, 3, 7, 1, 6, 9])"
            ]
          },
          "metadata": {},
          "execution_count": 6
        }
      ],
      "source": [
        "#Generamos un array aleatorio (para este caso un array de una dimensión y que contenga 12 elementos que vayan del 0 al 11)\n",
        "arr1 = np.random.randint(10, size=12)\n",
        "arr1"
      ]
    },
    {
      "cell_type": "code",
      "source": [
        "#Al ser un arrange de 12 elementos, podemos modificar la matriz original de una dimensión a una de 2 dimensiones (ej: 4 arrays con 3 elementos)\n",
        "arr1_ordenado = np.reshape(arr1, (4,3))\n",
        "arr1_ordenado"
      ],
      "metadata": {
        "colab": {
          "base_uri": "https://localhost:8080/"
        },
        "id": "Gwf-8jbX-_tZ",
        "outputId": "03accc94-b466-4988-fd2b-7062d7bbc93e"
      },
      "execution_count": 7,
      "outputs": [
        {
          "output_type": "execute_result",
          "data": {
            "text/plain": [
              "array([[4, 3, 9],\n",
              "       [3, 3, 1],\n",
              "       [3, 3, 7],\n",
              "       [1, 6, 9]])"
            ]
          },
          "metadata": {},
          "execution_count": 7
        }
      ]
    },
    {
      "cell_type": "code",
      "source": [
        "#O podemos convertir ese mismo array de 1 dimensión a 3 dimensiones (donde 3 arrays tendran 2 arrays de 2 elementos cada uno)\n",
        "arr1_3d = np.reshape(arr1, (3,2,2))\n",
        "arr1_3d"
      ],
      "metadata": {
        "colab": {
          "base_uri": "https://localhost:8080/"
        },
        "id": "ilzCyYNKALza",
        "outputId": "ba6af7f1-c63a-45fc-c3b9-0cb7b59bf470"
      },
      "execution_count": 8,
      "outputs": [
        {
          "output_type": "execute_result",
          "data": {
            "text/plain": [
              "array([[[4, 3],\n",
              "        [9, 3]],\n",
              "\n",
              "       [[3, 1],\n",
              "        [3, 3]],\n",
              "\n",
              "       [[7, 1],\n",
              "        [6, 9]]])"
            ]
          },
          "metadata": {},
          "execution_count": 8
        }
      ]
    },
    {
      "cell_type": "markdown",
      "source": [
        "Existe completa libertad para modificar la forma de un array siempre y cuando no transformemos un array a una forma que implique una mayor cantidad de elementos a los establecidos originalemente"
      ],
      "metadata": {
        "id": "ba73pPqeAtdb"
      }
    }
  ]
}